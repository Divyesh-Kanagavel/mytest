{
 "cells": [
  {
   "cell_type": "code",
   "execution_count": 7,
   "id": "f17e3128",
   "metadata": {},
   "outputs": [],
   "source": [
    "from datetime import date as date_n"
   ]
  },
  {
   "cell_type": "code",
   "execution_count": 8,
   "id": "e9d6974c",
   "metadata": {},
   "outputs": [],
   "source": [
    "def return_amount(interest_rate, num_days,principal):\n",
    "    return (principal*((1+(interest_rate/100.0)) ** (num_days/365)) - principal)"
   ]
  },
  {
   "cell_type": "code",
   "execution_count": 59,
   "id": "22833226",
   "metadata": {},
   "outputs": [],
   "source": [
    "def calculate_interests(start_date, maturity_date, interest_rate, principal):\n",
    "    interests = []\n",
    "    interest_dict = {}\n",
    "    if (maturity_date < start_date):\n",
    "        print(\"Either start date or maturity date is wrong!!! Pls check!\")\n",
    "        return\n",
    "    if ((interest_rate) < 0.0 or (interest_rate > 100.0)):\n",
    "        print(\"Pls enter interest rate in percentage! [0-100]\")\n",
    "        return\n",
    "    cumulated_interest = 0.0\n",
    "    cur_date = date_n(start_date.year, 3,31)\n",
    "    if (start_date > cur_date):\n",
    "        cur_date = date_n(cur_date.year+1,cur_date.month, cur_date.day)\n",
    "    \n",
    "    while(1):\n",
    "        num_days = (cur_date - start_date).days\n",
    "        interest_amount = return_amount(interest_rate, num_days, principal)\n",
    "        interests.append(interest_amount - cumulated_interest)\n",
    "        interest_dict[str(cur_date)] = interest_amount - cumulated_interest\n",
    "        cumulated_interest = interest_amount\n",
    "        cur_date = date_n(cur_date.year+1,cur_date.month, cur_date.day)\n",
    "        \n",
    "        if (cur_date.year == maturity_date.year):\n",
    "            if (cur_date > maturity_date):\n",
    "                num_days = (maturity_date - start_date).days\n",
    "                interest_amount = return_amount(interest_rate, num_days, principal)\n",
    "                interests.append(interest_amount - cumulated_interest)\n",
    "                interest_dict[str(date_n(cur_date.year,cur_date.month,cur_date.day))] = interest_amount - cumulated_interest\n",
    "                cumulated_interest = interest_amount\n",
    "                break\n",
    "            else:\n",
    "                num_days = (cur_date - start_date).days\n",
    "                interest_amount = return_amount(interest_rate, num_days, principal)\n",
    "                interests.append(interest_amount - cumulated_interest)\n",
    "                interest_dict[str(cur_date)] = interest_amount - cumulated_interest\n",
    "                cumulated_interest = interest_amount\n",
    "                num_days = (maturity_date - start_date).days\n",
    "                interest_amount = return_amount(interest_rate, num_days, principal)\n",
    "                interests.append(interest_amount - cumulated_interest)\n",
    "                interest_dict[str(date_n(cur_date.year+1,cur_date.month,cur_date.day))] = interest_amount - cumulated_interest\n",
    "                cumulated_interest = interest_amount\n",
    "                break\n",
    "    return interests, interest_dict\n",
    "                \n",
    "            \n",
    "            \n",
    "            \n",
    "        \n",
    "    \n",
    "    \n",
    "    \n",
    "    \n",
    "    \n",
    "    "
   ]
  },
  {
   "cell_type": "code",
   "execution_count": 38,
   "id": "6a4ff97d",
   "metadata": {},
   "outputs": [],
   "source": [
    "import datetime"
   ]
  },
  {
   "cell_type": "code",
   "execution_count": 99,
   "id": "d7880d89",
   "metadata": {},
   "outputs": [
    {
     "name": "stdout",
     "output_type": "stream",
     "text": [
      "2021-07-23 2026-07-23\n",
      "2021-07-24\n",
      "The interest amount year wise are :  [23045.3620793717, 35567.08462139731, 38093.18713696289, 40575.98310096585, 43335.14995183144, 14129.573516255012]\n",
      "The total interest amont is :  194746.3404067842\n",
      "{'2022-03-31': 23045.3620793717, '2023-03-31': 35567.08462139731, '2024-03-31': 38093.18713696289, '2025-03-31': 40575.98310096585, '2026-03-31': 43335.14995183144, '2027-03-31': 14129.573516255012}\n"
     ]
    }
   ],
   "source": [
    "#08.03.21\n",
    "#08.03.26\n",
    "start_date = date_n(2021,7,23) #year, month, day\n",
    "maturity_date = date_n(2026,7,23)\n",
    "print(start_date, maturity_date)\n",
    "interest_rate = 6.8 # NSC interest rate in percent\n",
    "principal = 500000\n",
    "start_date += datetime.timedelta(days=1)\n",
    "print(start_date)\n",
    "yearwise_interests, interest_dict = calculate_interests(start_date, maturity_date, interest_rate,principal)\n",
    "print(\"The interest amount year wise are : \" , yearwise_interests) # fiscal year wise interests\n",
    "print(\"The total interest amont is : \", sum(yearwise_interests))\n",
    "print(interest_dict)"
   ]
  },
  {
   "cell_type": "code",
   "execution_count": 48,
   "id": "ff061c5b",
   "metadata": {},
   "outputs": [
    {
     "data": {
      "text/plain": [
       "'2021-02-21'"
      ]
     },
     "execution_count": 48,
     "metadata": {},
     "output_type": "execute_result"
    }
   ],
   "source": []
  },
  {
   "cell_type": "code",
   "execution_count": null,
   "id": "6178348b",
   "metadata": {},
   "outputs": [],
   "source": []
  }
 ],
 "metadata": {
  "kernelspec": {
   "display_name": "Python 3 (ipykernel)",
   "language": "python",
   "name": "python3"
  },
  "language_info": {
   "codemirror_mode": {
    "name": "ipython",
    "version": 3
   },
   "file_extension": ".py",
   "mimetype": "text/x-python",
   "name": "python",
   "nbconvert_exporter": "python",
   "pygments_lexer": "ipython3",
   "version": "3.9.13"
  }
 },
 "nbformat": 4,
 "nbformat_minor": 5
}
